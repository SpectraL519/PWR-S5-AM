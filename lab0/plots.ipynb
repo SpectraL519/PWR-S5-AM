{
 "cells": [
  {
   "cell_type": "code",
   "execution_count": null,
   "metadata": {},
   "outputs": [],
   "source": [
    "import glob\n",
    "import ntpath\n",
    "import os\n",
    "from pathlib import Path\n",
    "import pandas as pd\n",
    "import matplotlib.pyplot as plt\n",
    "\n",
    "input_path_pattern = 'data/*.csv'\n",
    "output_directory = 'report/img/'\n"
   ]
  },
  {
   "cell_type": "code",
   "execution_count": null,
   "metadata": {},
   "outputs": [],
   "source": [
    "def plot_tsp_cycle(file_path: str):\n",
    "    points = pd.read_csv(file_path)\n",
    "    file_name = Path(file_path).stem\n",
    "\n",
    "    plt.figure(figsize=(7, 5))\n",
    "    plt.title(f\"TSP cycle - {file_name}\")\n",
    "\n",
    "    plt.scatter(points.x, points.y, s=5)\n",
    "\n",
    "    for i in range(1, len(points)):\n",
    "        plt.plot(\n",
    "            [points.x.iloc[i - 1], points.x.iloc[i]],\n",
    "            [points.y.iloc[i - 1], points.y.iloc[i]],\n",
    "            c = 'blue'\n",
    "        )\n",
    "    plt.plot(\n",
    "        [points.x.iloc[0], points.x.iloc[len(points) - 1]],\n",
    "        [points.y.iloc[0], points.y.iloc[len(points) - 1]],\n",
    "        c = 'blue'\n",
    "    )\n",
    "\n",
    "    plt.xlabel('x')\n",
    "    plt.ylabel('y')\n",
    "\n",
    "    plt.savefig(os.path.join(output_directory, f\"{file_name}.png\"))\n"
   ]
  },
  {
   "cell_type": "code",
   "execution_count": null,
   "metadata": {},
   "outputs": [],
   "source": [
    "for file_path in glob.glob(input_path_pattern):\n",
    "    plot_tsp_cycle(file_path)\n"
   ]
  }
 ],
 "metadata": {
  "kernelspec": {
   "display_name": "base",
   "language": "python",
   "name": "python3"
  },
  "language_info": {
   "codemirror_mode": {
    "name": "ipython",
    "version": 3
   },
   "file_extension": ".py",
   "mimetype": "text/x-python",
   "name": "python",
   "nbconvert_exporter": "python",
   "pygments_lexer": "ipython3",
   "version": "3.9.13"
  }
 },
 "nbformat": 4,
 "nbformat_minor": 2
}
