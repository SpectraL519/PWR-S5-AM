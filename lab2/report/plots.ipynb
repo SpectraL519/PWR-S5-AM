{
 "cells": [
  {
   "cell_type": "code",
   "execution_count": null,
   "metadata": {},
   "outputs": [],
   "source": [
    "import os\n",
    "import glob\n",
    "from pathlib import Path\n",
    "import pandas as pd\n",
    "import matplotlib.pyplot as plt\n",
    "\n",
    "cycle_input_pattern = 'cycle/*.csv'\n",
    "output_directory = 'img'\n",
    "modes = ['sa', 'ts']\n",
    "\n",
    "mode_names = {\n",
    "    'sa': 'simulated annealing',\n",
    "    'ts': 'taboo search',\n",
    "}\n",
    "\n",
    "data_file = lambda m: f'data/data_{m}.csv'\n",
    "plt_title = lambda c: c.replace('_', ' ')\n"
   ]
  },
  {
   "cell_type": "code",
   "execution_count": null,
   "metadata": {},
   "outputs": [],
   "source": [
    "mode_results = {m: pd.read_csv(data_file(m)) for m in modes}\n",
    "\n",
    "for mode, res in mode_results.items():\n",
    "    mode_results[mode] = res.sort_values('num_vertices')\n",
    "\n",
    "columns = mode_results[modes[0]].columns[3:]\n"
   ]
  },
  {
   "cell_type": "code",
   "execution_count": null,
   "metadata": {},
   "outputs": [],
   "source": [
    "def plot_tsp_cycle(file_path: str):\n",
    "    points = pd.read_csv(file_path)\n",
    "    file_name = Path(file_path).stem\n",
    "\n",
    "    plt.figure(figsize=(7, 5))\n",
    "    plt.title(f\"TSP cycle - {os.path.basename(file_path)}\")\n",
    "\n",
    "    plt.scatter(points.x, points.y, s=5)\n",
    "\n",
    "    for i in range(1, len(points)):\n",
    "        plt.plot(\n",
    "            [points.x.iloc[i - 1], points.x.iloc[i]],\n",
    "            [points.y.iloc[i - 1], points.y.iloc[i]],\n",
    "            c = 'blue'\n",
    "        )\n",
    "    plt.plot(\n",
    "        [points.x.iloc[0], points.x.iloc[len(points) - 1]],\n",
    "        [points.y.iloc[0], points.y.iloc[len(points) - 1]],\n",
    "        c = 'blue'\n",
    "    )\n",
    "\n",
    "    plt.xlabel('x')\n",
    "    plt.ylabel('y')\n",
    "\n",
    "    plt.savefig(os.path.join(output_directory, f\"{file_name}.png\"))\n",
    "\n",
    "    plt.show();\n"
   ]
  },
  {
   "cell_type": "code",
   "execution_count": null,
   "metadata": {},
   "outputs": [],
   "source": [
    "for file_path in glob.glob(cycle_input_pattern):\n",
    "    plot_tsp_cycle(file_path)\n"
   ]
  }
 ],
 "metadata": {
  "kernelspec": {
   "display_name": "base",
   "language": "python",
   "name": "python3"
  },
  "language_info": {
   "codemirror_mode": {
    "name": "ipython",
    "version": 3
   },
   "file_extension": ".py",
   "mimetype": "text/x-python",
   "name": "python",
   "nbconvert_exporter": "python",
   "pygments_lexer": "ipython3",
   "version": "3.9.13"
  }
 },
 "nbformat": 4,
 "nbformat_minor": 2
}
