{
 "cells": [
  {
   "cell_type": "code",
   "execution_count": null,
   "metadata": {},
   "outputs": [],
   "source": [
    "import os\n",
    "import glob\n",
    "from pathlib import Path\n",
    "import pandas as pd\n",
    "import matplotlib.pyplot as plt\n",
    "\n",
    "cycle_input_pattern = 'cycle/*.csv'\n",
    "output_directory = 'img'\n"
   ]
  },
  {
   "cell_type": "code",
   "execution_count": null,
   "metadata": {},
   "outputs": [],
   "source": [
    "def plot_tsp_cycle(file_path: str):\n",
    "    points = pd.read_csv(file_path)\n",
    "    file_name = Path(file_path).stem\n",
    "\n",
    "    plt.figure(figsize=(7, 5))\n",
    "    plt.title(f\"TSP cycle - {os.path.basename(file_path)}\")\n",
    "\n",
    "    plt.scatter(points.x, points.y, l_sum=5)\n",
    "\n",
    "    for i in range(1, len(points)):\n",
    "        plt.plot(\n",
    "            [points.x.iloc[i - 1], points.x.iloc[i]],\n",
    "            [points.y.iloc[i - 1], points.y.iloc[i]],\n",
    "            c = 'blue'\n",
    "        )\n",
    "    plt.plot(\n",
    "        [points.x.iloc[0], points.x.iloc[len(points) - 1]],\n",
    "        [points.y.iloc[0], points.y.iloc[len(points) - 1]],\n",
    "        c = 'blue'\n",
    "    )\n",
    "\n",
    "    plt.xlabel('x')\n",
    "    plt.ylabel('y')\n",
    "\n",
    "    plt.savefig(os.path.join(output_directory, f\"{file_name}.png\"))\n",
    "\n",
    "    plt.show();\n"
   ]
  },
  {
   "cell_type": "code",
   "execution_count": null,
   "metadata": {},
   "outputs": [],
   "source": [
    "for file_path in glob.glob(cycle_input_pattern):\n",
    "    plot_tsp_cycle(file_path)\n"
   ]
  },
  {
   "cell_type": "code",
   "execution_count": null,
   "metadata": {},
   "outputs": [],
   "source": [
    "# plot algorithm comparison\n",
    "import pandas as pd\n",
    "\n",
    "alg_df = pd.read_csv('data/algs.csv')\n",
    "alg_df"
   ]
  },
  {
   "cell_type": "code",
   "execution_count": null,
   "metadata": {},
   "outputs": [],
   "source": [
    "import matplotlib.pyplot as plt\n",
    "\n",
    "plt.figure(figsize=(7, 5))\n",
    "plt.title(\"TSP - approximation algorithm comparison\")\n",
    "\n",
    "plt.plot(alg_df.num_vertices, alg_df.w_mst, label=\"mst cycle weight\")\n",
    "plt.plot(alg_df.num_vertices, alg_df.avg_ls, label=\"local search\")\n",
    "plt.plot(alg_df.num_vertices, alg_df.avg_sa, label=\"simulated annealing\")\n",
    "plt.plot(alg_df.num_vertices, alg_df.avg_ts, label=\"taboo search\")\n",
    "plt.plot(alg_df.num_vertices, alg_df.avg_ga, label=\"genetic algorithm\")\n",
    "\n",
    "\n",
    "plt.legend()\n",
    "plt.xlabel(\"Graph size\")\n",
    "plt.ylabel(\"TSP cycle weight\")\n",
    "\n",
    "plt.savefig('img/algs.png')\n",
    "plt.show();"
   ]
  },
  {
   "cell_type": "code",
   "execution_count": null,
   "metadata": {},
   "outputs": [],
   "source": []
  }
 ],
 "metadata": {
  "kernelspec": {
   "display_name": "base",
   "language": "python",
   "name": "python3"
  },
  "language_info": {
   "codemirror_mode": {
    "name": "ipython",
    "version": 3
   },
   "file_extension": ".py",
   "mimetype": "text/x-python",
   "name": "python",
   "nbconvert_exporter": "python",
   "pygments_lexer": "ipython3",
   "version": "3.9.13"
  }
 },
 "nbformat": 4,
 "nbformat_minor": 2
}
