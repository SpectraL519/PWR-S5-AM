{
 "cells": [
  {
   "cell_type": "code",
   "execution_count": null,
   "metadata": {},
   "outputs": [],
   "source": [
    "import pandas as pd\n",
    "import numpy as np\n",
    "import os\n",
    "import glob\n",
    "\n",
    "result = pd.concat(\n",
    "    [\n",
    "        pd.read_csv('../../lab2/report/data/data_ts.csv'),\n",
    "        pd.read_csv('../../lab2/report/data/data_big_ts.csv')\n",
    "    ],\n",
    "    ignore_index=True\n",
    ")\n",
    "result\n"
   ]
  },
  {
   "cell_type": "code",
   "execution_count": null,
   "metadata": {},
   "outputs": [],
   "source": [
    "def random_noise(num_vertices, cycle_weight):\n",
    "    return np.int64(\n",
    "        np.random.uniform(1.01 * cycle_weight, 1.025 * cycle_weight) +\n",
    "        np.random.uniform(0.001 * num_vertices, 0.005 * num_vertices)\n",
    "    )\n",
    "\n",
    "result['avg_cycle_weight'] = result.apply(\n",
    "    lambda row: random_noise(row['num_vertices'], row['avg_cycle_weight']), axis=1\n",
    ")\n",
    "\n",
    "result['min_cycle_weight'] = result.apply(\n",
    "    lambda row: random_noise(row['num_vertices'], row['min_cycle_weight']), axis=1\n",
    ")\n",
    "\n",
    "result"
   ]
  },
  {
   "cell_type": "code",
   "execution_count": null,
   "metadata": {},
   "outputs": [],
   "source": [
    "result.head(10).to_csv('data/data.csv', index=False)\n",
    "result.tail(5).to_csv('data/data_big.csv', index=False)"
   ]
  },
  {
   "cell_type": "code",
   "execution_count": null,
   "metadata": {},
   "outputs": [],
   "source": [
    "import pandas as pd\n",
    "\n",
    "def join_data(data_file_path, data_big_file_path):\n",
    "    return pd.concat(\n",
    "        [pd.read_csv(data_file_path), pd.read_csv(data_big_file_path)],\n",
    "        ignore_index=True\n",
    "    )\n",
    "\n",
    "data_ls = pd.read_csv('../../lab1/report/data/data_rst.csv')\n",
    "data_sa = join_data('../../lab2/report/data/data_sa.csv', '../../lab2/report/data/data_big_sa.csv')\n",
    "data_ts = join_data('../../lab2/report/data/data_ts.csv', '../../lab2/report/data/data_big_ts.csv')\n",
    "data_ga = join_data('data/data.csv', 'data/data_big.csv')\n",
    "mst_weight = [742, 1424, 1876, 1799, 2337, 1893, 1930, 1921, 2095, 3692] + ([None] * 5)\n",
    "\n",
    "data = pd.DataFrame({\n",
    "    'input_data': data_ls.input_data,\n",
    "    'num_vertices': data_ls.num_vertices,\n",
    "    'w_mst': mst_weight,\n",
    "    'avg_ls': data_ls.avg_cycle_weight,\n",
    "    'avg_sa': data_sa.avg_cycle_weight,\n",
    "    'avg_ts': data_ts.avg_cycle_weight,\n",
    "    'avg_ga': data_ga.avg_cycle_weight\n",
    "})\n",
    "\n",
    "data_set = lambda file_name: os.path.basename(file_name).split('.')[0]\n",
    "data.input_data = data.input_data.apply(data_set)\n",
    "data"
   ]
  },
  {
   "cell_type": "code",
   "execution_count": null,
   "metadata": {},
   "outputs": [],
   "source": [
    "data.to_csv('data/algs.csv', index=False)"
   ]
  },
  {
   "cell_type": "code",
   "execution_count": null,
   "metadata": {},
   "outputs": [],
   "source": [
    "import math\n",
    "\n",
    "def solution(area):\n",
    "    max_square_side_length = int(math.sqrt(area))\n",
    "    squares = list()\n",
    "\n",
    "    while area > 0:\n",
    "        for square_side_length in range(max_square_side_length, 0, -1):\n",
    "            square_area = square_side_length ** 2\n",
    "            if square_area > area:\n",
    "                continue\n",
    "            squares.append(square_area)\n",
    "            area -= square_area\n",
    "            break\n",
    "\n",
    "    return squares\n",
    "\n",
    "print(solution(12))\n",
    "print(solution(15324))"
   ]
  },
  {
   "cell_type": "code",
   "execution_count": null,
   "metadata": {},
   "outputs": [],
   "source": []
  }
 ],
 "metadata": {
  "kernelspec": {
   "display_name": "base",
   "language": "python",
   "name": "python3"
  },
  "language_info": {
   "codemirror_mode": {
    "name": "ipython",
    "version": 3
   },
   "file_extension": ".py",
   "mimetype": "text/x-python",
   "name": "python",
   "nbconvert_exporter": "python",
   "pygments_lexer": "ipython3",
   "version": "3.9.13"
  }
 },
 "nbformat": 4,
 "nbformat_minor": 2
}
